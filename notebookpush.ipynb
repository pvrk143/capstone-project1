{
 "cells": [
  {
   "cell_type": "markdown",
   "metadata": {},
   "source": [
    "in this project i am going to start a Jupyter Notebook and do the following:\n",
    "\n",
    "Writing some markdown to explain that this notebook will be mainly used for the capstone project.\n",
    "\n",
    "importing the  the pandas library as pd.\n",
    "\n",
    "importing the Numpy library as np.\n",
    "\n",
    "printing the following the statement: Hello Capstone Project Course!"
   ]
  },
  {
   "cell_type": "code",
   "execution_count": null,
   "metadata": {},
   "outputs": [],
   "source": [
    "impor"
   ]
  }
 ],
 "metadata": {
  "kernelspec": {
   "display_name": "Python 3",
   "language": "python",
   "name": "python3"
  },
  "language_info": {
   "codemirror_mode": {
    "name": "ipython",
    "version": 3
   },
   "file_extension": ".py",
   "mimetype": "text/x-python",
   "name": "python",
   "nbconvert_exporter": "python",
   "pygments_lexer": "ipython3",
   "version": "3.6.8"
  }
 },
 "nbformat": 4,
 "nbformat_minor": 2
}
