{
 "cells": [
  {
   "cell_type": "markdown",
   "metadata": {},
   "source": [
    "# Capstone Battle of Neighborhoods week-1\n",
    "\n",
    "# Problem Statement\n",
    "\n",
    "My friend is planning to open his Burger Joint in some Locality (District) of Bogotá, Colombia.\n",
    "And he is asking our help in finding the best Locality.\n",
    "\n",
    "Business Problem \n",
    "\n",
    "In order to open My friends burger joint, we will have the need to use some information about the Localities in Bogotá.\n",
    "We must be sure that the place where the burger joint is opened will have enough customers and also that there aren't a large ammount of burer joints in the place."
   ]
  },
  {
   "cell_type": "code",
   "execution_count": null,
   "metadata": {},
   "outputs": [],
   "source": []
  }
 ],
 "metadata": {
  "kernelspec": {
   "display_name": "Python 3",
   "language": "python",
   "name": "python3"
  },
  "language_info": {
   "codemirror_mode": {
    "name": "ipython",
    "version": 3
   },
   "file_extension": ".py",
   "mimetype": "text/x-python",
   "name": "python",
   "nbconvert_exporter": "python",
   "pygments_lexer": "ipython3",
   "version": "3.6.8"
  }
 },
 "nbformat": 4,
 "nbformat_minor": 2
}
